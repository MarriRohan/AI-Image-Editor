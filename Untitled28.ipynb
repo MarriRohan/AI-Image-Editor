{
  "nbformat": 4,
  "nbformat_minor": 0,
  "metadata": {
    "colab": {
      "provenance": [],
      "authorship_tag": "ABX9TyPPkLGWkscU6XC2cle4BmqW",
      "include_colab_link": true
    },
    "kernelspec": {
      "name": "python3",
      "display_name": "Python 3"
    },
    "language_info": {
      "name": "python"
    }
  },
  "cells": [
    {
      "cell_type": "markdown",
      "metadata": {
        "id": "view-in-github",
        "colab_type": "text"
      },
      "source": [
        "<a href=\"https://colab.research.google.com/github/MarriRohan/AI-Image-Editor/blob/code/Untitled28.ipynb\" target=\"_parent\"><img src=\"https://colab.research.google.com/assets/colab-badge.svg\" alt=\"Open In Colab\"/></a>"
      ]
    },
    {
      "cell_type": "code",
      "metadata": {
        "colab": {
          "base_uri": "https://localhost:8080/"
        },
        "id": "acf1c3d1",
        "outputId": "a728eb92-7f73-4692-b1cc-7087332b1b83"
      },
      "source": [
        "%pip install Flask opencv-python-headless"
      ],
      "execution_count": null,
      "outputs": [
        {
          "output_type": "stream",
          "name": "stdout",
          "text": [
            "Requirement already satisfied: Flask in /usr/local/lib/python3.11/dist-packages (3.1.1)\n",
            "Requirement already satisfied: opencv-python-headless in /usr/local/lib/python3.11/dist-packages (4.12.0.88)\n",
            "Requirement already satisfied: blinker>=1.9.0 in /usr/local/lib/python3.11/dist-packages (from Flask) (1.9.0)\n",
            "Requirement already satisfied: click>=8.1.3 in /usr/local/lib/python3.11/dist-packages (from Flask) (8.2.1)\n",
            "Requirement already satisfied: itsdangerous>=2.2.0 in /usr/local/lib/python3.11/dist-packages (from Flask) (2.2.0)\n",
            "Requirement already satisfied: jinja2>=3.1.2 in /usr/local/lib/python3.11/dist-packages (from Flask) (3.1.6)\n",
            "Requirement already satisfied: markupsafe>=2.1.1 in /usr/local/lib/python3.11/dist-packages (from Flask) (3.0.2)\n",
            "Requirement already satisfied: werkzeug>=3.1.0 in /usr/local/lib/python3.11/dist-packages (from Flask) (3.1.3)\n",
            "Requirement already satisfied: numpy<2.3.0,>=2 in /usr/local/lib/python3.11/dist-packages (from opencv-python-headless) (2.0.2)\n"
          ]
        }
      ]
    },
    {
      "cell_type": "markdown",
      "metadata": {
        "id": "a5cd8a52"
      },
      "source": [
        "Next, we can start designing the website structure."
      ]
    },
    {
      "cell_type": "markdown",
      "metadata": {
        "id": "698c6619"
      },
      "source": [
        "We'll create a basic file structure for our web application. A common structure for Flask applications includes:"
      ]
    },
    {
      "cell_type": "code",
      "metadata": {
        "colab": {
          "base_uri": "https://localhost:8080/",
          "height": 54
        },
        "id": "d7c89541",
        "outputId": "8e6b9c33-6e09-48e2-fbad-0a5d124b1db6"
      },
      "source": [
        "# This is just a representation of the file structure\n",
        "# You will need to create these directories and files manually in your environment\n",
        "\n",
        "\"\"\"\n",
        "project_folder/\n",
        "├── app.py\n",
        "├── templates/\n",
        "│   └── index.html\n",
        "└── static/\n",
        "    └── css/\n",
        "    └── js/\n",
        "    └── images/\n",
        "\"\"\""
      ],
      "execution_count": null,
      "outputs": [
        {
          "output_type": "execute_result",
          "data": {
            "text/plain": [
              "'\\nproject_folder/\\n├── app.py\\n├── templates/\\n│   └── index.html\\n└── static/\\n    └── css/\\n    └── js/\\n    └── images/\\n'"
            ],
            "application/vnd.google.colaboratory.intrinsic+json": {
              "type": "string"
            }
          },
          "metadata": {},
          "execution_count": 3
        }
      ]
    },
    {
      "cell_type": "markdown",
      "metadata": {
        "id": "989732f5"
      },
      "source": [
        "- `app.py`: This will be the main Python file for our Flask application.\n",
        "- `templates/`: This directory will contain our HTML files.\n",
        "- `static/`: This directory will contain our static files like CSS, JavaScript, and images.\n",
        "\n",
        "Now, let's create a basic `app.py` with a simple route."
      ]
    },
    {
      "cell_type": "code",
      "metadata": {
        "colab": {
          "base_uri": "https://localhost:8080/"
        },
        "id": "d4ac95c5",
        "outputId": "af2eb99e-3c4f-4350-c5bd-cc2b20a9aac8"
      },
      "source": [
        "from flask import Flask, render_template\n",
        "\n",
        "app = Flask(__name__)\n",
        "\n",
        "@app.route('/')\n",
        "def index():\n",
        "    return \"Hello, World!\"\n",
        "\n",
        "if __name__ == '__main__':\n",
        "    # This is for running the app directly. In a real deployment,\n",
        "    # you would use a production-ready web server.\n",
        "    app.run(debug=True)"
      ],
      "execution_count": null,
      "outputs": [
        {
          "output_type": "stream",
          "name": "stdout",
          "text": [
            " * Serving Flask app '__main__'\n",
            " * Debug mode: on\n"
          ]
        },
        {
          "output_type": "stream",
          "name": "stderr",
          "text": [
            "INFO:werkzeug:\u001b[31m\u001b[1mWARNING: This is a development server. Do not use it in a production deployment. Use a production WSGI server instead.\u001b[0m\n",
            " * Running on http://127.0.0.1:5000\n",
            "INFO:werkzeug:\u001b[33mPress CTRL+C to quit\u001b[0m\n",
            "INFO:werkzeug: * Restarting with stat\n"
          ]
        }
      ]
    },
    {
      "cell_type": "markdown",
      "metadata": {
        "id": "7c16862a"
      },
      "source": [
        "Next, we will create the `index.html` file in the `templates` directory."
      ]
    },
    {
      "cell_type": "code",
      "metadata": {
        "colab": {
          "base_uri": "https://localhost:8080/",
          "height": 110
        },
        "id": "e9fad37f",
        "outputId": "35e9123d-905b-475d-d6b4-90029e432f36"
      },
      "source": [
        "<!DOCTYPE html>\n",
        "<html lang=\"en\">\n",
        "<head>\n",
        "    <meta charset=\"UTF-8\">\n",
        "    <meta name=\"viewport\" content=\"width=device-width, initial-scale=1.0\">\n",
        "    <title>AI Image Editor</title>\n",
        "</head>\n",
        "<body>\n",
        "    <h1>Welcome to the AI Image Editor!</h1>\n",
        "    <p>This is where you can upload images and apply AI edits.</p>\n",
        "    <!-- We will add more content here later -->\n",
        "</body>\n",
        "</html>"
      ],
      "execution_count": null,
      "outputs": [
        {
          "output_type": "error",
          "ename": "SyntaxError",
          "evalue": "invalid syntax (ipython-input-5-2067297510.py, line 1)",
          "traceback": [
            "\u001b[0;36m  File \u001b[0;32m\"/tmp/ipython-input-5-2067297510.py\"\u001b[0;36m, line \u001b[0;32m1\u001b[0m\n\u001b[0;31m    <!DOCTYPE html>\u001b[0m\n\u001b[0m    ^\u001b[0m\n\u001b[0;31mSyntaxError\u001b[0m\u001b[0;31m:\u001b[0m invalid syntax\n"
          ]
        }
      ]
    },
    {
      "cell_type": "markdown",
      "metadata": {
        "id": "87d1512d"
      },
      "source": [
        "Now that we have the basic structure for our `app.py` and `index.html`, we can start implementing the backend logic for image handling and AI integration."
      ]
    },
    {
      "cell_type": "markdown",
      "metadata": {
        "id": "8f2d2b5d"
      },
      "source": [
        "To handle file uploads in our Flask application, we'll modify the `app.py` file to include a new route that accepts POST requests. We'll also update the `index.html` to include a form for uploading files.\n",
        "\n",
        "**Modify `app.py`:**"
      ]
    },
    {
      "cell_type": "code",
      "metadata": {
        "colab": {
          "base_uri": "https://localhost:8080/"
        },
        "id": "edc0dae6",
        "outputId": "705cb497-f725-41b2-cfe4-65d5c7e38b6d"
      },
      "source": [
        "from flask import Flask, render_template, request, redirect, url_for\n",
        "import os\n",
        "import cv2 # Import OpenCV\n",
        "\n",
        "app = Flask(__name__)\n",
        "# Configure a directory to save uploaded files\n",
        "app.config['UPLOAD_FOLDER'] = 'uploads/'\n",
        "\n",
        "# Create the upload folder if it doesn't exist\n",
        "if not os.path.exists(app.config['UPLOAD_FOLDER']):\n",
        "    os.makedirs(app.config['UPLOAD_FOLDER'])\n",
        "# Also create a static folder for serving processed images if it doesn't exist\n",
        "static_uploads_folder = os.path.join('static', app.config['UPLOAD_FOLDER'])\n",
        "if not os.path.exists(static_uploads_folder):\n",
        "    os.makedirs(static_uploads_folder)\n",
        "\n",
        "\n",
        "@app.route('/')\n",
        "def index():\n",
        "    return render_template('index.html')\n",
        "\n",
        "@app.route('/upload', methods=['POST'])\n",
        "def upload_image():\n",
        "    if 'image' not in request.files:\n",
        "        return redirect(url_for('index'))\n",
        "\n",
        "    file = request.files['image']\n",
        "\n",
        "    if file.filename == '':\n",
        "        return redirect(url_for('index'))\n",
        "\n",
        "    if file:\n",
        "        filename = file.filename\n",
        "        filepath = os.path.join(app.config['UPLOAD_FOLDER'], filename)\n",
        "        file.save(filepath)\n",
        "\n",
        "        # --- AI Image Processing Placeholder ---\n",
        "        # Load the image using OpenCV\n",
        "        img = cv2.imread(filepath)\n",
        "\n",
        "        # **Apply AI editing here**\n",
        "        # For example, let's convert it to grayscale:\n",
        "        gray_img = cv2.cvtColor(img, cv2.COLOR_BGR2GRAY)\n",
        "\n",
        "        # Save the processed image to the static uploads folder\n",
        "        processed_filename = 'processed_' + filename\n",
        "        processed_filepath = os.path.join(static_uploads_folder, processed_filename)\n",
        "        cv2.imwrite(processed_filepath, gray_img)\n",
        "        # --- End of AI Image Processing Placeholder ---\n",
        "\n",
        "\n",
        "        # Render the index.html template and pass the processed image filename\n",
        "        return render_template('index.html', processed_image=processed_filename)\n",
        "\n",
        "if __name__ == '__main__':\n",
        "    # Use 0.0.0.0 to make the server accessible externally in Colab\n",
        "    app.run(debug=True, host='0.0.0.0')"
      ],
      "execution_count": null,
      "outputs": [
        {
          "output_type": "stream",
          "name": "stdout",
          "text": [
            " * Serving Flask app '__main__'\n",
            " * Debug mode: on\n"
          ]
        },
        {
          "output_type": "stream",
          "name": "stderr",
          "text": [
            "INFO:werkzeug:\u001b[31m\u001b[1mWARNING: This is a development server. Do not use it in a production deployment. Use a production WSGI server instead.\u001b[0m\n",
            " * Running on all addresses (0.0.0.0)\n",
            " * Running on http://127.0.0.1:5000\n",
            " * Running on http://172.28.0.12:5000\n",
            "INFO:werkzeug:\u001b[33mPress CTRL+C to quit\u001b[0m\n",
            "INFO:werkzeug: * Restarting with stat\n"
          ]
        }
      ]
    },
    {
      "cell_type": "markdown",
      "metadata": {
        "id": "c669880f"
      },
      "source": [
        "**Modify `index.html`:**\n",
        "\n",
        "We'll add a form to the `index.html` file to allow users to upload images."
      ]
    },
    {
      "cell_type": "code",
      "metadata": {
        "colab": {
          "base_uri": "https://localhost:8080/",
          "height": 110
        },
        "id": "1075c5d2",
        "outputId": "be4f49da-9523-46d5-864c-5dfcc2da0bbe"
      },
      "source": [
        "<!DOCTYPE html>\n",
        "<html lang=\"en\">\n",
        "<head>\n",
        "    <meta charset=\"UTF-8\">\n",
        "    <meta name=\"viewport\" content=\"width=device-width, initial-scale=1.0\">\n",
        "    <title>AI Image Editor</title>\n",
        "</head>\n",
        "<body>\n",
        "    <h1>Welcome to the AI Image Editor!</h1>\n",
        "    <p>Upload an image to get started:</p>\n",
        "\n",
        "    <form action=\"/upload\" method=\"post\" enctype=\"multipart/form-data\">\n",
        "        <input type=\"file\" name=\"image\" accept=\"image/*\">\n",
        "        <input type=\"submit\" value=\"Upload Image\">\n",
        "    </form>\n",
        "\n",
        "    {% if processed_image %}\n",
        "        <h2>Processed Image:</h2>\n",
        "        <img src=\"{{ url_for('static', filename='uploads/' + processed_image) }}\" alt=\"Processed Image\">\n",
        "    {% endif %}\n",
        "\n",
        "</body>\n",
        "</html>"
      ],
      "execution_count": null,
      "outputs": [
        {
          "output_type": "error",
          "ename": "SyntaxError",
          "evalue": "invalid syntax (ipython-input-10-3321107043.py, line 1)",
          "traceback": [
            "\u001b[0;36m  File \u001b[0;32m\"/tmp/ipython-input-10-3321107043.py\"\u001b[0;36m, line \u001b[0;32m1\u001b[0m\n\u001b[0;31m    <!DOCTYPE html>\u001b[0m\n\u001b[0m    ^\u001b[0m\n\u001b[0;31mSyntaxError\u001b[0m\u001b[0;31m:\u001b[0m invalid syntax\n"
          ]
        }
      ]
    },
    {
      "cell_type": "markdown",
      "metadata": {
        "id": "51739a3a"
      },
      "source": [
        "Now that we can upload images, the next step is to integrate the AI model to perform the image editing. This involves selecting an appropriate AI model or library and applying it to the uploaded images."
      ]
    },
    {
      "cell_type": "markdown",
      "metadata": {
        "id": "eaee96bf"
      },
      "source": [
        "Now that we can upload images and have a placeholder for processing them, let's enhance the `index.html` to display the processed image."
      ]
    },
    {
      "cell_type": "code",
      "metadata": {
        "colab": {
          "base_uri": "https://localhost:8080/"
        },
        "id": "d9e12a0a",
        "outputId": "6af324b8-1bd6-43bf-b596-302bc471eba0"
      },
      "source": [
        "# Install ngrok\n",
        "!pip install pyngrok"
      ],
      "execution_count": null,
      "outputs": [
        {
          "output_type": "stream",
          "name": "stdout",
          "text": [
            "Collecting pyngrok\n",
            "  Downloading pyngrok-7.2.12-py3-none-any.whl.metadata (9.4 kB)\n",
            "Requirement already satisfied: PyYAML>=5.1 in /usr/local/lib/python3.11/dist-packages (from pyngrok) (6.0.2)\n",
            "Downloading pyngrok-7.2.12-py3-none-any.whl (26 kB)\n",
            "Installing collected packages: pyngrok\n",
            "Successfully installed pyngrok-7.2.12\n"
          ]
        }
      ]
    },
    {
      "cell_type": "markdown",
      "metadata": {
        "id": "696066ad"
      },
      "source": [
        "You'll need an `ngrok` authentication token to connect your account. If you don't have one, you can get it from your `ngrok` dashboard ([https://dashboard.ngrok.com/get-started/your-authtoken](https://dashboard.ngrok.com/get-started/your-authtoken)).\n",
        "\n",
        "Add your authtoken to Colab's secrets manager (under the \"🔑\" icon in the left panel) with the name `NGROK_AUTH_TOKEN`."
      ]
    },
    {
      "cell_type": "code",
      "metadata": {
        "colab": {
          "base_uri": "https://localhost:8080/"
        },
        "id": "a338bdb6",
        "outputId": "04ba5c4c-c31a-4f64-c858-6f1160691d5d"
      },
      "source": [
        "from pyngrok import ngrok\n",
        "from google.colab import userdata\n",
        "\n",
        "# Get the auth token from Colab secrets\n",
        "NGROK_AUTH_TOKEN = userdata.get('NGROK_AUTH_TOKEN')\n",
        "ngrok.set_auth_token(NGROK_AUTH_TOKEN)\n",
        "\n",
        "# Connect to the Flask port (default is 5000)\n",
        "# The ngrok tunnel will be available at the returned public_url\n",
        "public_url = ngrok.connect(5000).public_url\n",
        "print(f\" * ngrok tunnel is live at {public_url}\")"
      ],
      "execution_count": null,
      "outputs": [
        {
          "output_type": "stream",
          "name": "stdout",
          "text": [
            " * ngrok tunnel is live at https://bf7ae3eaf092.ngrok-free.app\n"
          ]
        }
      ]
    },
    {
      "cell_type": "markdown",
      "metadata": {
        "id": "af8f907c"
      },
      "source": [
        "Now, when you run the Flask app cell, you should see the `ngrok` public URL printed in the output. Use that URL to access your application from your browser."
      ]
    },
    {
      "cell_type": "code",
      "metadata": {
        "colab": {
          "base_uri": "https://localhost:8080/"
        },
        "id": "aa275d72",
        "outputId": "bffd9da7-ded7-49bc-e7cf-25b9fc701344"
      },
      "source": [
        "import os\n",
        "\n",
        "# Create the templates directory if it doesn't exist\n",
        "if not os.path.exists('templates'):\n",
        "    os.makedirs('templates')\n",
        "\n",
        "# HTML content for index.html\n",
        "html_content = \"\"\"\n",
        "<!DOCTYPE html>\n",
        "<html lang=\"en\">\n",
        "<head>\n",
        "    <meta charset=\"UTF-8\">\n",
        "    <meta name=\"viewport\" content=\"width=device-width, initial-scale=1.0\">\n",
        "    <title>AI Image Editor</title>\n",
        "</head>\n",
        "<body>\n",
        "    <h1>Welcome to the AI Image Editor!</h1>\n",
        "    <p>Upload an image to get started:</p>\n",
        "\n",
        "    <form action=\"/upload\" method=\"post\" enctype=\"multipart/form-data\">\n",
        "        <input type=\"file\" name=\"image\" accept=\"image/*\">\n",
        "        <input type=\"submit\" value=\"Upload Image\">\n",
        "    </form>\n",
        "\n",
        "    {% if processed_image %}\n",
        "        <h2>Processed Image:</h2>\n",
        "        <img src=\"{{ url_for('static', filename='uploads/' + processed_image) }}\" alt=\"Processed Image\">\n",
        "    {% endif %}\n",
        "\n",
        "</body>\n",
        "</html>\n",
        "\"\"\"\n",
        "\n",
        "# Write the HTML content to the index.html file\n",
        "with open('templates/index.html', 'w') as f:\n",
        "    f.write(html_content)\n",
        "\n",
        "print(\"Created templates/index.html\")"
      ],
      "execution_count": null,
      "outputs": [
        {
          "output_type": "stream",
          "name": "stdout",
          "text": [
            "Created templates/index.html\n"
          ]
        }
      ]
    }
  ]
}